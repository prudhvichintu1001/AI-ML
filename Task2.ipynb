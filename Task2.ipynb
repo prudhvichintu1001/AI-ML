{
  "nbformat": 4,
  "nbformat_minor": 0,
  "metadata": {
    "colab": {
      "provenance": [],
      "include_colab_link": true
    },
    "kernelspec": {
      "name": "python3",
      "display_name": "Python 3"
    },
    "language_info": {
      "name": "python"
    }
  },
  "cells": [
    {
      "cell_type": "markdown",
      "metadata": {
        "id": "view-in-github",
        "colab_type": "text"
      },
      "source": [
        "<a href=\"https://colab.research.google.com/github/prudhvichintu1001/AI-ML/blob/main/Task2.ipynb\" target=\"_parent\"><img src=\"https://colab.research.google.com/assets/colab-badge.svg\" alt=\"Open In Colab\"/></a>"
      ]
    },
    {
      "cell_type": "code",
      "execution_count": null,
      "metadata": {
        "id": "ShEhCt8GSYIp"
      },
      "outputs": [],
      "source": [
        "import numpy as np # linear algebra\n",
        "import pandas as pd"
      ]
    },
    {
      "cell_type": "markdown",
      "source": [
        "loading a dataset\n"
      ],
      "metadata": {
        "id": "uYEctZOexU9P"
      }
    },
    {
      "cell_type": "code",
      "source": [
        "df = pd.read_csv(\"/content/Electric_Vehicle_Population_Data.csv\")"
      ],
      "metadata": {
        "id": "xlC8ZFv7V2Dr"
      },
      "execution_count": null,
      "outputs": []
    },
    {
      "cell_type": "code",
      "source": [
        "df.info()"
      ],
      "metadata": {
        "colab": {
          "base_uri": "https://localhost:8080/"
        },
        "id": "q5gdSdqX4TH2",
        "outputId": "5239c12f-ca72-44a2-bc02-e4fa82affbcb"
      },
      "execution_count": null,
      "outputs": [
        {
          "output_type": "stream",
          "name": "stdout",
          "text": [
            "<class 'pandas.core.frame.DataFrame'>\n",
            "RangeIndex: 163003 entries, 0 to 163002\n",
            "Data columns (total 17 columns):\n",
            " #   Column                                             Non-Null Count   Dtype  \n",
            "---  ------                                             --------------   -----  \n",
            " 0   VIN (1-10)                                         163003 non-null  object \n",
            " 1   County                                             162999 non-null  object \n",
            " 2   City                                               162999 non-null  object \n",
            " 3   State                                              163003 non-null  object \n",
            " 4   Postal Code                                        162999 non-null  float64\n",
            " 5   Model Year                                         163003 non-null  int64  \n",
            " 6   Make                                               163003 non-null  object \n",
            " 7   Model                                              163003 non-null  object \n",
            " 8   Electric Vehicle Type                              163003 non-null  object \n",
            " 9   Clean Alternative Fuel Vehicle (CAFV) Eligibility  163003 non-null  object \n",
            " 10  Electric Range                                     163003 non-null  int64  \n",
            " 11  Base MSRP                                          163003 non-null  int64  \n",
            " 12  Legislative District                               162637 non-null  float64\n",
            " 13  DOL Vehicle ID                                     163003 non-null  int64  \n",
            " 14  Vehicle Location                                   162994 non-null  object \n",
            " 15  Electric Utility                                   162999 non-null  object \n",
            " 16  2020 Census Tract                                  162999 non-null  float64\n",
            "dtypes: float64(3), int64(4), object(10)\n",
            "memory usage: 21.1+ MB\n"
          ]
        }
      ]
    },
    {
      "cell_type": "code",
      "source": [
        "df.columns # Just to show the column names"
      ],
      "metadata": {
        "colab": {
          "base_uri": "https://localhost:8080/"
        },
        "id": "qQavT89Wxsr4",
        "outputId": "5819ec8f-e236-4f5e-e5a4-35bfbaeeb224"
      },
      "execution_count": null,
      "outputs": [
        {
          "output_type": "execute_result",
          "data": {
            "text/plain": [
              "Index(['VIN (1-10)', 'County', 'City', 'State', 'Postal Code', 'Model Year',\n",
              "       'Make', 'Model', 'Electric Vehicle Type',\n",
              "       'Clean Alternative Fuel Vehicle (CAFV) Eligibility', 'Electric Range',\n",
              "       'Base MSRP', 'Legislative District', 'DOL Vehicle ID',\n",
              "       'Vehicle Location', 'Electric Utility', '2020 Census Tract'],\n",
              "      dtype='object')"
            ]
          },
          "metadata": {},
          "execution_count": 48
        }
      ]
    },
    {
      "cell_type": "code",
      "source": [
        "Car_Popularity = df.value_counts([\"Make\",\"Model\"],ascending=True)"
      ],
      "metadata": {
        "id": "WBDt8sTbbNgs"
      },
      "execution_count": null,
      "outputs": []
    },
    {
      "cell_type": "markdown",
      "source": [
        " a DataFrame called Car_Popularity that contains the counts of unique combinations of \"Make\" and \"Model\" in the original DataFrame 'df'. The counts are sorted in ascending order, providing a view of the popularity of different car makes and models based on the dataset."
      ],
      "metadata": {
        "id": "sLgQqzwSxlHr"
      }
    },
    {
      "cell_type": "code",
      "source": [
        "Car_Popularity"
      ],
      "metadata": {
        "colab": {
          "base_uri": "https://localhost:8080/"
        },
        "id": "qieeptIhbRh-",
        "outputId": "0c933eb3-515a-476d-a4d6-f1d03030b304"
      },
      "execution_count": null,
      "outputs": [
        {
          "output_type": "execute_result",
          "data": {
            "text/plain": [
              "Make       Model      \n",
              "BMW        745LE              1\n",
              "CHEVROLET  BLAZER EV          1\n",
              "TH!NK      CITY               1\n",
              "BENTLEY    FLYING SPUR        1\n",
              "MAZDA      MX-30              1\n",
              "                          ...  \n",
              "TESLA      MODEL X         3265\n",
              "           MODEL S         4139\n",
              "NISSAN     LEAF            6457\n",
              "TESLA      MODEL 3        16237\n",
              "           MODEL Y        18066\n",
              "Length: 130, dtype: int64"
            ]
          },
          "metadata": {},
          "execution_count": 28
        }
      ]
    },
    {
      "cell_type": "markdown",
      "source": [
        "## bar graph showing the popularity of tesla model 3,y,x&s"
      ],
      "metadata": {
        "id": "wBEbmmaues8L"
      }
    },
    {
      "cell_type": "code",
      "source": [
        "#Adjust the output window size for better view\n",
        "import matplotlib.pyplot as plt\n",
        "fig = plt.figure()\n",
        "ax = fig.add_axes([0,0,1,1])\n",
        "courses = ['TESLA MODEL 3','TESLA MODEL Y','tesla moddel x','tesla model s']\n",
        "students_enrolled = [ 16237,18066,3265,4139]\n",
        "ax.bar(courses,students_enrolled)\n",
        "plt.show()"
      ],
      "metadata": {
        "colab": {
          "base_uri": "https://localhost:8080/",
          "height": 540
        },
        "id": "eacrO77Hbaip",
        "outputId": "9b1c1ba3-3483-45f0-bb73-c3e2d27c7746"
      },
      "execution_count": null,
      "outputs": [
        {
          "output_type": "display_data",
          "data": {
            "text/plain": [
              "<Figure size 640x480 with 1 Axes>"
            ],
            "image/png": "[encoded data removed]"
          },
          "metadata": {}
        }
      ]
    },
    {
      "cell_type": "code",
      "source": [],
      "metadata": {
        "id": "LLQS1L8w9SFr"
      },
      "execution_count": null,
      "outputs": []
    },
    {
      "cell_type": "markdown",
      "source": [
        "## **histogram -popularity vs cars**"
      ],
      "metadata": {
        "id": "h6QCmwTTe6hH"
      }
    },
    {
      "cell_type": "code",
      "source": [
        "import matplotlib.pyplot as plt\n",
        "import numpy as np\n",
        "a=np.array([1,1,1,1,1, 3265, 4139, 6457,16237, 18066])\n",
        "plt.hist(a)\n",
        "ax.set_xlabel('popularity')\n",
        "ax.set_ylabel('cars')\n",
        "plt.show()"
      ],
      "metadata": {
        "colab": {
          "base_uri": "https://localhost:8080/",
          "height": 430
        },
        "id": "EMa1r8vVc4iJ",
        "outputId": "d24c194b-70fa-4245-e41e-62cb7c89cd3e"
      },
      "execution_count": null,
      "outputs": [
        {
          "output_type": "display_data",
          "data": {
            "text/plain": [
              "<Figure size 640x480 with 1 Axes>"
            ],
            "image/png": "[encoded data removed]"
          },
          "metadata": {}
        }
      ]
    },
    {
      "cell_type": "markdown",
      "source": [
        "### **pie chart showing the popularity of tesla model 3,y,x,s**"
      ],
      "metadata": {
        "id": "os1QuHsJfclk"
      }
    },
    {
      "cell_type": "code",
      "source": [
        "import matplotlib.pyplot as plt\n",
        "fig=plt.figure()\n",
        "ax=fig.add_axes([0,0,1,1])\n",
        "cars=['tesla model 3','tesla model y','tesla moddel x','tesla model s']\n",
        "popularity=[16237,18066,3265,4139]\n",
        "ax.pie(popularity,labels=cars)\n",
        "plt.show()"
      ],
      "metadata": {
        "colab": {
          "base_uri": "https://localhost:8080/",
          "height": 516
        },
        "id": "aY-7mkCEfrEI",
        "outputId": "0072e340-20e0-449d-8cf1-ce4888fb4d63"
      },
      "execution_count": null,
      "outputs": [
        {
          "output_type": "display_data",
          "data": {
            "text/plain": [
              "<Figure size 640x480 with 1 Axes>"
            ],
            "image/png": "[encoded data removed]"
          },
          "metadata": {}
        }
      ]
    },
    {
      "cell_type": "code",
      "source": [
        "CarsPerCity = df.value_counts([\"City\"],ascending = True)"
      ],
      "metadata": {
        "id": "M9rIFzdx2tm-"
      },
      "execution_count": null,
      "outputs": []
    },
    {
      "cell_type": "code",
      "source": [
        "CarsPerCity"
      ],
      "metadata": {
        "colab": {
          "base_uri": "https://localhost:8080/"
        },
        "id": "0m-7OXwD3tzO",
        "outputId": "23516029-6a34-4927-959d-363e52d74749"
      },
      "execution_count": null,
      "outputs": [
        {
          "output_type": "execute_result",
          "data": {
            "text/plain": [
              "City             \n",
              "Greenfield Center        1\n",
              "Southern Pines           1\n",
              "Hughesville              1\n",
              "Houston                  1\n",
              "Southlake                1\n",
              "                     ...  \n",
              "Bothell               5267\n",
              "Vancouver             5735\n",
              "Redmond               5886\n",
              "Bellevue              8187\n",
              "Seattle              27434\n",
              "Length: 706, dtype: int64"
            ]
          },
          "metadata": {},
          "execution_count": 56
        }
      ]
    },
    {
      "cell_type": "code",
      "source": [
        "CarsPerCity.describe()"
      ],
      "metadata": {
        "colab": {
          "base_uri": "https://localhost:8080/"
        },
        "id": "35JrZcOh2vdG",
        "outputId": "bc5ae69a-c958-4609-b300-116dbdf0f515"
      },
      "execution_count": null,
      "outputs": [
        {
          "output_type": "execute_result",
          "data": {
            "text/plain": [
              "count      706.000000\n",
              "mean       230.876771\n",
              "std       1235.589302\n",
              "min          1.000000\n",
              "25%          1.000000\n",
              "50%          4.000000\n",
              "75%         55.000000\n",
              "max      27434.000000\n",
              "dtype: float64"
            ]
          },
          "metadata": {},
          "execution_count": 55
        }
      ]
    },
    {
      "cell_type": "code",
      "source": [
        "CarsPerCity.info()"
      ],
      "metadata": {
        "colab": {
          "base_uri": "https://localhost:8080/"
        },
        "id": "lJro9AKE35bB",
        "outputId": "5378d903-deaf-4f24-eefb-09e1f010cc91"
      },
      "execution_count": null,
      "outputs": [
        {
          "output_type": "stream",
          "name": "stdout",
          "text": [
            "<class 'pandas.core.series.Series'>\n",
            "MultiIndex: 706 entries, ('Greenfield Center',) to ('Seattle',)\n",
            "Series name: None\n",
            "Non-Null Count  Dtype\n",
            "--------------  -----\n",
            "706 non-null    int64\n",
            "dtypes: int64(1)\n",
            "memory usage: 28.6+ KB\n"
          ]
        }
      ]
    },
    {
      "cell_type": "code",
      "source": [
        "Car_range = df.value_counts([\"Make\",\"Model\",\"Electric Range\"],ascending=True)"
      ],
      "metadata": {
        "id": "WnrCT6hz5gG_"
      },
      "execution_count": null,
      "outputs": []
    },
    {
      "cell_type": "code",
      "source": [
        "Car_range"
      ],
      "metadata": {
        "colab": {
          "base_uri": "https://localhost:8080/"
        },
        "id": "RW-GCMl85nek",
        "outputId": "82337239-ed40-4484-fede-ca0928584894"
      },
      "execution_count": null,
      "outputs": [
        {
          "output_type": "execute_result",
          "data": {
            "text/plain": [
              "Make        Model        Electric Range\n",
              "CHEVROLET   S-10 PICKUP  39                    1\n",
              "MITSUBISHI  I-MIEV       59                    1\n",
              "PORSCHE     918          12                    1\n",
              "MAZDA       MX-30        0                     1\n",
              "PORSCHE     CAYENNE      15                    1\n",
              "                                           ...  \n",
              "NISSAN      LEAF         84                 3570\n",
              "TESLA       MODEL 3      220                4077\n",
              "                         215                6089\n",
              "                         0                 14929\n",
              "            MODEL Y      0                 29326\n",
              "Length: 259, dtype: int64"
            ]
          },
          "metadata": {},
          "execution_count": 90
        }
      ]
    },
    {
      "cell_type": "code",
      "source": [
        "model = df['Model']\n",
        "range = df['Electric Range']\n"
      ],
      "metadata": {
        "id": "dFkX37O3_ZmG"
      },
      "execution_count": null,
      "outputs": []
    },
    {
      "cell_type": "code",
      "source": [
        "a=model.head(10)"
      ],
      "metadata": {
        "id": "RXn_92zM_9DS"
      },
      "execution_count": null,
      "outputs": []
    },
    {
      "cell_type": "code",
      "source": [
        "a"
      ],
      "metadata": {
        "colab": {
          "base_uri": "https://localhost:8080/"
        },
        "id": "xDsWOLKmAGAg",
        "outputId": "3103e654-9031-46ab-8391-7527d533b614"
      },
      "execution_count": null,
      "outputs": [
        {
          "output_type": "execute_result",
          "data": {
            "text/plain": [
              "0    MODEL Y\n",
              "1       LEAF\n",
              "2    MODEL X\n",
              "3    CLARITY\n",
              "4       Q5 E\n",
              "Name: Model, dtype: object"
            ]
          },
          "metadata": {},
          "execution_count": 106
        }
      ]
    },
    {
      "cell_type": "code",
      "source": [
        "b=range.head(10)"
      ],
      "metadata": {
        "id": "ewdaorzxAJFE"
      },
      "execution_count": null,
      "outputs": []
    },
    {
      "cell_type": "code",
      "source": [
        "b"
      ],
      "metadata": {
        "colab": {
          "base_uri": "https://localhost:8080/"
        },
        "id": "4j03XepWAN0n",
        "outputId": "340197b6-0331-4103-e719-cdd3deed5750"
      },
      "execution_count": null,
      "outputs": [
        {
          "output_type": "execute_result",
          "data": {
            "text/plain": [
              "0    291\n",
              "1    150\n",
              "2    200\n",
              "3     47\n",
              "4     23\n",
              "Name: Electric Range, dtype: int64"
            ]
          },
          "metadata": {},
          "execution_count": 108
        }
      ]
    },
    {
      "cell_type": "code",
      "source": [
        "Make=df['Make']"
      ],
      "metadata": {
        "id": "XFRSW7dQAqOD"
      },
      "execution_count": null,
      "outputs": []
    },
    {
      "cell_type": "code",
      "source": [
        "c=Make.head(5)"
      ],
      "metadata": {
        "id": "meUQrHvtA394"
      },
      "execution_count": null,
      "outputs": []
    },
    {
      "cell_type": "code",
      "source": [
        "import matplotlib.pyplot as plt\n",
        "fig = plt.figure()\n",
        "ax = fig.add_axes([0, 0, 1, 1])\n",
        "\n",
        "ax.bar(a, b)\n",
        "plt.show()"
      ],
      "metadata": {
        "colab": {
          "base_uri": "https://localhost:8080/",
          "height": 540
        },
        "id": "y2bnVSYlAQQr",
        "outputId": "619822cc-ecf9-43cb-e474-7f1b34b9d6ff"
      },
      "execution_count": null,
      "outputs": [
        {
          "output_type": "display_data",
          "data": {
            "text/plain": [
              "<Figure size 640x480 with 1 Axes>"
            ],
            "image/png": "[encoded data removed]"
          },
          "metadata": {}
        }
      ]
    },
    {
      "cell_type": "code",
      "source": [],
      "metadata": {
        "id": "u1EbNSe9BH4W"
      },
      "execution_count": null,
      "outputs": []
    },
    {
      "cell_type": "code",
      "source": [
        "#Adjust the output window size for better view\n",
        "import matplotlib.pyplot as plt\n",
        "fig = plt.figure()\n",
        "ax = fig.add_axes([0, 0, 1, 1])\n",
        "model = ['918','LEAF']\n",
        "range = [12,84]\n",
        "ax.bar(model, range)\n",
        "plt.show()"
      ],
      "metadata": {
        "colab": {
          "base_uri": "https://localhost:8080/",
          "height": 540
        },
        "id": "ohqS0SR79TqJ",
        "outputId": "782b22fc-0bea-4b2d-c547-88943cafce82"
      },
      "execution_count": null,
      "outputs": [
        {
          "output_type": "display_data",
          "data": {
            "text/plain": [
              "<Figure size 640x480 with 1 Axes>"
            ],
            "image/png": "[encoded data removed]"
          },
          "metadata": {}
        }
      ]
    }
  ]
}